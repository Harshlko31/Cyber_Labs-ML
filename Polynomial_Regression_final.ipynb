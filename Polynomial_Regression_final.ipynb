{
 "cells": [
  {
   "cell_type": "code",
   "execution_count": 1,
   "metadata": {},
   "outputs": [],
   "source": [
    "import pandas as pd\n",
    "import numpy as np\n",
    "import matplotlib.pyplot as plt\n",
    "\n"
   ]
  },
  {
   "cell_type": "code",
   "execution_count": 4,
   "metadata": {},
   "outputs": [],
   "source": [
    "data_df = pd.read_csv('Polynomial_train.csv')\n"
   ]
  },
  {
   "cell_type": "code",
   "execution_count": 5,
   "metadata": {},
   "outputs": [],
   "source": [
    "def addcolumns(data_df):\n",
    " X2 = data_df['X']*data_df['X']\n",
    " Y2 = data_df['Y']*data_df['Y']\n",
    " Z2 = data_df['Z']*data_df['Z']\n",
    " XY = data_df['X']*data_df['Y']\n",
    " XZ = data_df['X']*data_df['Z']\n",
    " YZ = data_df['Y']*data_df['Z']\n",
    " X3 = data_df['X']*data_df['X']*data_df['X']\n",
    " Y3 = data_df['Y']*data_df['Y']*data_df['Y']\n",
    " Z3 = data_df['Z']*data_df['Z']*data_df['Z']\n",
    " XY2 = data_df['X']*data_df['Y']*data_df['Y']\n",
    " XZ2 = data_df['X']*data_df['Z']*data_df['Z']\n",
    " XYZ = data_df['X']*data_df['Y']*data_df['Z']\n",
    " X2Y = data_df['X']*data_df['X']*data_df['Y']\n",
    " X2Z= data_df['X']*data_df['X']*data_df['Z']\n",
    " Y2Z= data_df['Y']*data_df['Y']*data_df['Z']\n",
    " data_df.insert(loc=4,column='X2',value=X2)\n",
    " data_df.insert(loc=5,column='Y2',value=Y2)\n",
    " data_df.insert(loc=6,column='Z2',value=Z2)\n",
    " data_df.insert(loc=7,column='XY',value=XY)\n",
    " data_df.insert(loc=8,column='ZX',value=XZ)\n",
    " data_df.insert(loc=9,column='YZ',value=YZ)\n",
    " data_df.insert(loc=10,column='X3',value=X3)\n",
    " data_df.insert(loc=11,column='Y3',value=Y3)\n",
    " data_df.insert(loc=12,column='Z3',value=Z3)\n",
    " data_df.insert(loc=13,column='XY2',value=XY2)\n",
    " data_df.insert(loc=9,column='XZ2',value=XZ2)\n",
    " data_df.insert(loc=14,column='XYZ',value=XYZ)\n",
    " data_df.insert(loc=15,column='X2Y',value=X2Y)\n",
    " data_df.insert(loc=16,column='X2Z',value=X2Z)\n",
    " data_df.insert(loc=17,column='Y2Z',value=Y2Z)\n",
    " data_df.rename( columns={'Unnamed: 0':'0'}, inplace=True )\n",
    " return(data_df)\n"
   ]
  },
  {
   "cell_type": "code",
   "execution_count": 6,
   "metadata": {},
   "outputs": [
    {
     "data": {
      "text/plain": [
       "<bound method NDFrame.head of            0         X         Y         Z         X2         Y2         Z2  \\\n",
       "0          0  0.643715 -9.866550 -5.836019   0.414369  97.348811  34.059122   \n",
       "1          1 -1.366446 -3.761945 -8.756162   1.867174  14.152233  76.670372   \n",
       "2          2 -4.090270 -1.836218 -1.846066  16.730306   3.371695   3.407958   \n",
       "3          3 -8.730478 -1.923651  3.892972  76.221239   3.700432  15.155232   \n",
       "4          4  5.367169  0.358357  6.703989  28.806502   0.128419  44.943464   \n",
       "...      ...       ...       ...       ...        ...        ...        ...   \n",
       "49995  49995  2.693877 -1.362685 -7.392968   7.256973   1.856911  54.655970   \n",
       "49996  49996 -9.270188 -5.456920 -2.343480  85.936393  29.777980   5.491899   \n",
       "49997  49997  6.616753 -2.847288 -0.504040  43.781423   8.107050   0.254056   \n",
       "49998  49998  3.558199  4.507526 -4.823674  12.660781  20.317790  23.267828   \n",
       "49999  49999  0.623431  8.863234 -3.231040   0.388666  78.556918  10.439618   \n",
       "\n",
       "              XY         ZX         XZ2         YZ          X3          Y3  \\\n",
       "0      -6.351248  -3.756734   21.924374  57.581378    0.266736 -960.496923   \n",
       "1       5.140495  11.964821 -104.765911  32.940203   -2.551393  -53.239929   \n",
       "2       7.510625   7.550906  -13.939468   3.389778  -68.431463   -6.191165   \n",
       "3      16.794388 -33.987506 -132.312416  -7.488718 -665.447813   -7.118337   \n",
       "4       1.923360  35.981439  241.219162   2.402418  154.609359    0.046020   \n",
       "...          ...        ...         ...        ...         ...         ...   \n",
       "49995  -3.670906 -19.915745  147.236458  10.074287   19.549393   -2.530384   \n",
       "49996  50.586680  21.724502  -50.910940  12.788184 -796.646556 -162.496063   \n",
       "49997 -18.839803  -3.335108    1.681028   1.435147  289.690870  -23.083109   \n",
       "49998  16.038675 -17.163591   82.791564 -21.742834   45.049578   91.582965   \n",
       "49999   5.525613  -2.014330    6.508379 -28.637461    0.242306  696.268347   \n",
       "\n",
       "               Z3         XYZ         X2Y         X2Z         Y2Z         XY2  \\\n",
       "0     -198.769700   37.066006   -4.088395   -2.418267 -568.129550   62.664906   \n",
       "1     -671.338191  -45.011004   -7.024208  -16.349280 -123.919246  -19.338260   \n",
       "2       -6.291315  -13.865106  -30.720481  -30.885243   -6.224370  -13.791141   \n",
       "3       58.998898   65.380086 -146.623030  296.727161   14.405677  -32.306535   \n",
       "4      301.300474   12.894183   10.322997  193.118461    0.860922    0.689249   \n",
       "...           ...         ...         ...         ...         ...         ...   \n",
       "49995 -404.069813   27.138889   -9.888969  -53.650567  -13.728080    5.002289   \n",
       "49996  -12.870157 -118.548880 -468.948052 -201.390231  -69.784104 -276.047482   \n",
       "49997   -0.128055    9.496015 -124.658330  -22.067589   -4.086278   53.642351   \n",
       "49998 -112.236410  -77.365333   57.068797  -61.071474  -98.006389   72.294741   \n",
       "49999  -33.730819  -17.853475    3.444837   -1.255795 -253.820520   48.974801   \n",
       "\n",
       "             label  \n",
       "0       307.972927  \n",
       "1       136.398375  \n",
       "2      -310.724813  \n",
       "3         1.755447  \n",
       "4      -343.582590  \n",
       "...            ...  \n",
       "49995   683.405727  \n",
       "49996 -1874.385403  \n",
       "49997   663.873655  \n",
       "49998  -421.004005  \n",
       "49999  -699.718682  \n",
       "\n",
       "[50000 rows x 20 columns]>"
      ]
     },
     "execution_count": 6,
     "metadata": {},
     "output_type": "execute_result"
    }
   ],
   "source": [
    "data_df = addcolumns(data_df)\n",
    "\n",
    "data_df.head"
   ]
  },
  {
   "cell_type": "code",
   "execution_count": null,
   "metadata": {},
   "outputs": [],
   "source": []
  },
  {
   "cell_type": "code",
   "execution_count": 9,
   "metadata": {},
   "outputs": [
    {
     "name": "stdout",
     "output_type": "stream",
     "text": [
      "[[ 307.9729269 ]\n",
      " [ 136.39837542]\n",
      " [-310.72481348]\n",
      " ...\n",
      " [ 663.87365546]\n",
      " [-421.00400451]\n",
      " [-699.71868166]]\n"
     ]
    }
   ],
   "source": [
    "x = data_df.drop(['label','0'], axis = 1 ).values\n",
    "y = (data_df['label'].values).reshape(data_df.shape[0],1)\n",
    "print(y)\n",
    "x = np.vstack((np.ones((x.shape[0],)),x.T)).T\n"
   ]
  },
  {
   "cell_type": "code",
   "execution_count": null,
   "metadata": {},
   "outputs": [],
   "source": []
  },
  {
   "cell_type": "code",
   "execution_count": 10,
   "metadata": {},
   "outputs": [],
   "source": [
    "def model(X ,Y, learning_rate , iteration):\n",
    "    m = Y.size\n",
    "    theta = np.zeros((X.shape[1],1))\n",
    "    cost_list = []\n",
    "    for i in range(iteration):\n",
    "        y_pred = np.dot(X, theta)\n",
    "        cost = (1/(2*m))*np.sum(np.square(y_pred - Y))\n",
    "        d_theta = (1/m)*np.dot(X.T, y_pred - Y)\n",
    "        theta = theta - learning_rate*d_theta\n",
    "        cost_list.append(cost)\n",
    "        if((i%(iteration/10))==0):\n",
    "         print(\"cost is :\", cost)\n",
    "        \n",
    "    return theta, cost_list  "
   ]
  },
  {
   "cell_type": "code",
   "execution_count": 11,
   "metadata": {},
   "outputs": [
    {
     "name": "stdout",
     "output_type": "stream",
     "text": [
      "cost is : 727060.5592130942\n",
      "cost is : 40.46229142654367\n",
      "cost is : 38.18113633477228\n",
      "cost is : 37.30163901900886\n",
      "cost is : 36.962098499643886\n",
      "cost is : 36.830580503260634\n",
      "cost is : 36.77921991238204\n",
      "cost is : 36.75876064853734\n",
      "cost is : 36.750227673987226\n",
      "cost is : 36.746310647985005\n",
      "(19, 1)\n",
      "[[-1.14512535e-01]\n",
      " [-1.75157585e+00]\n",
      " [-1.46832896e-01]\n",
      " [ 1.14789672e-01]\n",
      " [ 1.01663130e+00]\n",
      " [-5.00450307e+00]\n",
      " [ 3.99479708e+00]\n",
      " [-3.19974916e+01]\n",
      " [-1.40019042e+01]\n",
      " [-3.00639435e-04]\n",
      " [ 6.99902915e+00]\n",
      " [ 2.97119102e-02]\n",
      " [-3.20510999e-05]\n",
      " [ 1.70024131e-04]\n",
      " [-7.56868189e-04]\n",
      " [ 4.35183648e-03]\n",
      " [-3.78538841e-03]\n",
      " [-2.52813785e-05]\n",
      " [ 1.04751428e-04]]\n"
     ]
    }
   ],
   "source": [
    "iteration = 100000\n",
    "learning_rate = 0.000008\n",
    "theta,cost_list = model(x,y,learning_rate= learning_rate, iteration= iteration)\n",
    "print(theta.shape)\n",
    "print(theta)"
   ]
  },
  {
   "cell_type": "code",
   "execution_count": 12,
   "metadata": {},
   "outputs": [
    {
     "data": {
      "image/png": "[encoded data removed]",
      "text/plain": [
       "<Figure size 432x288 with 1 Axes>"
      ]
     },
     "metadata": {
      "needs_background": "light"
     },
     "output_type": "display_data"
    }
   ],
   "source": [
    "rng = np.arange(0, iteration)\n",
    "plt.plot(rng, cost_list)\n",
    "plt.show()"
   ]
  },
  {
   "cell_type": "code",
   "execution_count": 13,
   "metadata": {},
   "outputs": [
    {
     "name": "stdout",
     "output_type": "stream",
     "text": [
      "[[ -650.15076553]\n",
      " [ -550.24598417]\n",
      " [  -73.14393422]\n",
      " ...\n",
      " [-1774.33199569]\n",
      " [  -18.53102115]\n",
      " [  -61.8486595 ]]\n",
      "[[ -657.66930949]\n",
      " [ -545.36252395]\n",
      " [  -75.04418664]\n",
      " ...\n",
      " [-1771.64069421]\n",
      " [  -22.74692118]\n",
      " [  -64.85344575]]\n",
      "3.879090230108349\n"
     ]
    }
   ],
   "source": [
    "data2_df = pd.read_csv('Polynomial_test.csv')\n",
    "data2_df = addcolumns(data2_df)\n",
    "x1 = data2_df.drop(['label','0'], axis = 1 ).values\n",
    "y1 = (data2_df['label'].values).reshape(data2_df.shape[0],1)\n",
    "x1 = np.vstack((np.ones((x1.shape[0],)),x1.T)).T\n",
    "y_pred = np.dot(x1,theta)\n",
    "print(y_pred)\n",
    "print(y1)\n"
   ]
  },
  {
   "cell_type": "code",
   "execution_count": 14,
   "metadata": {},
   "outputs": [
    {
     "name": "stdout",
     "output_type": "stream",
     "text": [
      "R2 score =  [0.99998551]\n"
     ]
    }
   ],
   "source": [
    "print( \"R2 score = \",1-sum(np.square(y_pred-y1))/sum(np.square(y1-np.mean(y1))))"
   ]
  }
 ],
 "metadata": {
  "interpreter": {
   "hash": "a29e1fb6683002b636560db254076994f59567f0270ab4cc0d58f0bc21ebc82f"
  },
  "kernelspec": {
   "display_name": "Python 3.10.2 64-bit",
   "language": "python",
   "name": "python3"
  },
  "language_info": {
   "codemirror_mode": {
    "name": "ipython",
    "version": 3
   },
   "file_extension": ".py",
   "mimetype": "text/x-python",
   "name": "python",
   "nbconvert_exporter": "python",
   "pygments_lexer": "ipython3",
   "version": "3.10.2"
  },
  "orig_nbformat": 4
 },
 "nbformat": 4,
 "nbformat_minor": 2
}
