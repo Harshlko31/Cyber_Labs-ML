{
 "cells": [
  {
   "cell_type": "code",
   "execution_count": 1,
   "metadata": {},
   "outputs": [],
   "source": [
    "import pandas as pd\n",
    "import numpy as np\n",
    "import matplotlib.pyplot as plt"
   ]
  },
  {
   "cell_type": "code",
   "execution_count": 2,
   "metadata": {},
   "outputs": [
    {
     "name": "stdout",
     "output_type": "stream",
     "text": [
      "[[  311.2324909]\n",
      " [ 6393.112342 ]\n",
      " [ 2601.046223 ]\n",
      " ...\n",
      " [ 1483.917022 ]\n",
      " [10720.13918  ]\n",
      " [ 2185.127958 ]]\n"
     ]
    }
   ],
   "source": [
    "data_df = pd.read_csv('Linear_train.csv')\n",
    "x = data_df.drop(['label','Sr.no'], axis = 1 ).values\n",
    "y = (data_df['label'].values).reshape(data_df.shape[0],1)\n",
    "print(y)\n",
    "x = np.vstack((np.ones((x.shape[0],)),x.T)).T"
   ]
  },
  {
   "cell_type": "code",
   "execution_count": 3,
   "metadata": {},
   "outputs": [],
   "source": [
    "def model(X ,Y, learning_rate , iteration):\n",
    "    m = Y.size\n",
    "    theta = np.zeros((X.shape[1],1))\n",
    "    cost_list = []\n",
    "    for i in range(iteration):\n",
    "        y_pred = np.dot(X, theta)\n",
    "        cost = (1/(2*m))*np.sum(np.square(y_pred - Y))\n",
    "        d_theta = (1/m)*np.dot(X.T, y_pred - Y)\n",
    "        theta = theta - learning_rate*d_theta\n",
    "        cost_list.append(cost)\n",
    "        if((i%(iteration/10))==0):\n",
    "         print(\"cost is :\", cost)\n",
    "        \n",
    "    return theta, cost_list,y_pred    "
   ]
  },
  {
   "cell_type": "code",
   "execution_count": 4,
   "metadata": {},
   "outputs": [
    {
     "name": "stdout",
     "output_type": "stream",
     "text": [
      "[[0.5]\n",
      " [0.5]\n",
      " [0.5]\n",
      " [0.5]\n",
      " [0.5]\n",
      " [0.5]\n",
      " [0.5]\n",
      " [0.5]\n",
      " [0.5]\n",
      " [0.5]\n",
      " [0.5]\n",
      " [0.5]\n",
      " [0.5]\n",
      " [0.5]\n",
      " [0.5]\n",
      " [0.5]\n",
      " [0.5]\n",
      " [0.5]\n",
      " [0.5]\n",
      " [0.5]\n",
      " [0.5]]\n",
      "[[8507.25985006]\n",
      " [9090.58632959]\n",
      " [7998.01566606]\n",
      " ...\n",
      " [7978.76991478]\n",
      " [7537.11968814]\n",
      " [8947.49438029]]\n"
     ]
    }
   ],
   "source": [
    "theta = np.ones((x.shape[1],1))\n",
    "print((theta*0.5))\n",
    "y_pred = np.dot(x, theta)\n",
    "print(y_pred)"
   ]
  },
  {
   "cell_type": "code",
   "execution_count": 5,
   "metadata": {},
   "outputs": [
    {
     "name": "stdout",
     "output_type": "stream",
     "text": [
      "cost is : 13398388.664011808\n",
      "cost is : 1005195.1862702613\n",
      "cost is : 84519.57028864112\n",
      "cost is : 8721.516236658894\n",
      "cost is : 2470.194145072053\n",
      "cost is : 1953.7122249994557\n",
      "cost is : 1910.9645316634535\n",
      "cost is : 1907.4200947563784\n",
      "cost is : 1907.1256802029277\n",
      "cost is : 1907.1011812792249\n",
      "[[ 1.77584079e-03]\n",
      " [ 1.29751175e+01]\n",
      " [ 1.99885813e-01]\n",
      " [-2.70162583e+01]\n",
      " [ 8.00830445e+00]\n",
      " [ 3.70169673e+01]\n",
      " [ 1.50578820e-01]\n",
      " [ 1.89979633e+01]\n",
      " [-2.89877870e+01]\n",
      " [ 1.20105480e-01]\n",
      " [ 2.29922753e+01]\n",
      " [ 3.10087762e+01]\n",
      " [ 5.98603258e-01]\n",
      " [-9.09979233e+01]\n",
      " [ 3.40086147e+01]\n",
      " [ 4.49783099e+01]\n",
      " [ 5.10152745e+01]\n",
      " [ 2.40073277e+01]\n",
      " [-1.00974004e+00]\n",
      " [ 9.49658868e+01]\n",
      " [ 2.50077513e+01]]\n",
      "[[  219.56843144]\n",
      " [ 6349.87184118]\n",
      " [ 2591.43415575]\n",
      " ...\n",
      " [ 1481.11922086]\n",
      " [10715.66161653]\n",
      " [ 2186.55478688]]\n"
     ]
    }
   ],
   "source": [
    "iteration = 300000\n",
    "learning_rate = 0.00000005\n",
    "theta,cost_list,y_pred = model(x,y,learning_rate= learning_rate, iteration= iteration)\n",
    "print(theta)\n",
    "print(y_pred)"
   ]
  },
  {
   "cell_type": "code",
   "execution_count": 6,
   "metadata": {},
   "outputs": [
    {
     "name": "stdout",
     "output_type": "stream",
     "text": [
      "[[  219.56843138]\n",
      " [ 6349.87184193]\n",
      " [ 2591.43415594]\n",
      " ...\n",
      " [ 1481.11922054]\n",
      " [10715.66161781]\n",
      " [ 2186.55478703]]\n"
     ]
    }
   ],
   "source": [
    "y3 = np.dot(x,theta)\n",
    "print(y3)"
   ]
  },
  {
   "cell_type": "code",
   "execution_count": 8,
   "metadata": {},
   "outputs": [
    {
     "name": "stdout",
     "output_type": "stream",
     "text": [
      "[[ -163.52272341]\n",
      " [ 6484.66451042]\n",
      " [ 2393.81808186]\n",
      " ...\n",
      " [-1404.204034  ]\n",
      " [ 1972.37171111]\n",
      " [-6120.24877236]]\n",
      "[[ -161.93734301]\n",
      " [ 6482.44419924]\n",
      " [ 2397.22580421]\n",
      " ...\n",
      " [-1402.89722183]\n",
      " [ 1976.06068988]\n",
      " [-6119.75151324]]\n",
      "1.4745404577120997\n"
     ]
    }
   ],
   "source": [
    "data2_df = pd.read_csv('Linear_test.csv')\n",
    "x1 = data2_df.drop(['label','Sr.no'], axis = 1 ).values\n",
    "y1 = (data2_df['label'].values).reshape(data2_df.shape[0],1)\n",
    "print(y1)\n",
    "x1 = np.vstack((np.ones((x1.shape[0],)),x1.T)).T\n",
    "y_pred = np.dot(x1,theta)\n",
    "print(y_pred)\n",
    "error= (1/(x1.shape[0]))*np.sum(np.abs(y_pred-y1))\n",
    "print(error)\n",
    "\n"
   ]
  },
  {
   "cell_type": "code",
   "execution_count": 7,
   "metadata": {},
   "outputs": [
    {
     "data": {
      "image/png": "[encoded data removed]",
      "text/plain": [
       "<Figure size 432x288 with 1 Axes>"
      ]
     },
     "metadata": {
      "needs_background": "light"
     },
     "output_type": "display_data"
    }
   ],
   "source": [
    "rng = np.arange(0, iteration)\n",
    "plt.plot(rng, cost_list)\n",
    "plt.show()"
   ]
  },
  {
   "cell_type": "code",
   "execution_count": 12,
   "metadata": {},
   "outputs": [
    {
     "name": "stdout",
     "output_type": "stream",
     "text": [
      "R2 score [0.99999986]\n"
     ]
    }
   ],
   "source": [
    "print( \"R2 score = \",1-sum(np.square(y_pred-y1))/sum(np.square(y1-np.mean(y1))))"
   ]
  },
  {
   "cell_type": "code",
   "execution_count": null,
   "metadata": {},
   "outputs": [],
   "source": []
  },
  {
   "cell_type": "code",
   "execution_count": null,
   "metadata": {},
   "outputs": [],
   "source": []
  }
 ],
 "metadata": {
  "interpreter": {
   "hash": "a29e1fb6683002b636560db254076994f59567f0270ab4cc0d58f0bc21ebc82f"
  },
  "kernelspec": {
   "display_name": "Python 3.10.2 64-bit",
   "language": "python",
   "name": "python3"
  },
  "language_info": {
   "codemirror_mode": {
    "name": "ipython",
    "version": 3
   },
   "file_extension": ".py",
   "mimetype": "text/x-python",
   "name": "python",
   "nbconvert_exporter": "python",
   "pygments_lexer": "ipython3",
   "version": "3.10.2"
  },
  "orig_nbformat": 4
 },
 "nbformat": 4,
 "nbformat_minor": 2
}
