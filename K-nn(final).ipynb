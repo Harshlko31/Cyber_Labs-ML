{
 "cells": [
  {
   "cell_type": "code",
   "execution_count": 26,
   "metadata": {},
   "outputs": [],
   "source": [
    "import numpy as np\n",
    "import pandas as pd\n",
    "from scipy.stats import mode"
   ]
  },
  {
   "cell_type": "code",
   "execution_count": 27,
   "metadata": {},
   "outputs": [
    {
     "name": "stdout",
     "output_type": "stream",
     "text": [
      "(14800, 1)\n"
     ]
    }
   ],
   "source": [
    "\n",
    "data_df = pd.read_csv('emnist-letters-train.csv')\n",
    "X = data_df.drop(['Y'], axis = 1 ).values\n",
    "X = np.vstack((np.ones((X.shape[0],)),X.T)).T\n",
    "y =  (data_df['Y'].values).reshape(data_df.shape[0],1)\n",
    "data_df2 = pd.read_csv('emnist-letters-test.csv')\n",
    "H = data_df2.drop(['Y'], axis = 1 ).values\n",
    "H= np.vstack((np.ones((H.shape[0],)),H.T)).T\n",
    "Y =(data_df2['Y'].values).reshape(data_df2.shape[0],1)\n",
    "print(Y.shape)"
   ]
  },
  {
   "cell_type": "code",
   "execution_count": 28,
   "metadata": {},
   "outputs": [],
   "source": [
    "def eucledian(p1,p2):\n",
    "    dist = np.sqrt(np.sum((p1-p2)**2))\n",
    "    return dist"
   ]
  },
  {
   "cell_type": "code",
   "execution_count": 32,
   "metadata": {},
   "outputs": [],
   "source": [
    "def predict(x_train, y , x_input, k):\n",
    "    op_labels = []\n",
    "     \n",
    "    \n",
    "    for i in range(14800):\n",
    "        item = x_input[i] \n",
    "        \n",
    "        point_dist = []\n",
    "        for j in range(len(x_train)): \n",
    "            distances = eucledian(np.array(x_train[j,:]) , item) \n",
    "            point_dist.append(distances) \n",
    "        point_dist = np.array(point_dist) \n",
    "        dist = np.argsort(point_dist)[:k] \n",
    "        labels = y[dist]\n",
    "        lab = mode(labels) \n",
    "        lab = lab.mode[0]\n",
    "        op_labels.append(lab)\n",
    "    return op_labels\n",
    " \n",
    "    "
   ]
  },
  {
   "cell_type": "code",
   "execution_count": 33,
   "metadata": {},
   "outputs": [],
   "source": [
    "y_pred = predict (X,y,H,5)"
   ]
  },
  {
   "cell_type": "code",
   "execution_count": 37,
   "metadata": {},
   "outputs": [
    {
     "name": "stdout",
     "output_type": "stream",
     "text": [
      "accuracy 0.8428378378378378\n"
     ]
    }
   ],
   "source": [
    "\n",
    "print(\"accuracy\", np.sum(y_pred == Y)/Y.size)\n",
    "\n"
   ]
  }
 ],
 "metadata": {
  "interpreter": {
   "hash": "a29e1fb6683002b636560db254076994f59567f0270ab4cc0d58f0bc21ebc82f"
  },
  "kernelspec": {
   "display_name": "Python 3.10.2 64-bit",
   "language": "python",
   "name": "python3"
  },
  "language_info": {
   "codemirror_mode": {
    "name": "ipython",
    "version": 3
   },
   "file_extension": ".py",
   "mimetype": "text/x-python",
   "name": "python",
   "nbconvert_exporter": "python",
   "pygments_lexer": "ipython3",
   "version": "3.10.2"
  },
  "orig_nbformat": 4
 },
 "nbformat": 4,
 "nbformat_minor": 2
}
